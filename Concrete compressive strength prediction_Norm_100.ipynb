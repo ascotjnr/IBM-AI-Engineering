{
    "cells": [
        {
            "cell_type": "markdown",
            "metadata": {
                "collapsed": true
            },
            "source": "## Download and Clean Dataset\nLet's start by importing the pandas and the Numpy libraries."
        },
        {
            "cell_type": "code",
            "execution_count": 1,
            "metadata": {},
            "outputs": [],
            "source": "import pandas as pd\nimport numpy as np"
        },
        {
            "cell_type": "code",
            "execution_count": 2,
            "metadata": {},
            "outputs": [
                {
                    "data": {
                        "text/html": "<div>\n<style scoped>\n    .dataframe tbody tr th:only-of-type {\n        vertical-align: middle;\n    }\n\n    .dataframe tbody tr th {\n        vertical-align: top;\n    }\n\n    .dataframe thead th {\n        text-align: right;\n    }\n</style>\n<table border=\"1\" class=\"dataframe\">\n  <thead>\n    <tr style=\"text-align: right;\">\n      <th></th>\n      <th>Cement</th>\n      <th>Blast Furnace Slag</th>\n      <th>Fly Ash</th>\n      <th>Water</th>\n      <th>Superplasticizer</th>\n      <th>Coarse Aggregate</th>\n      <th>Fine Aggregate</th>\n      <th>Age</th>\n      <th>Strength</th>\n    </tr>\n  </thead>\n  <tbody>\n    <tr>\n      <th>0</th>\n      <td>540.0</td>\n      <td>0.0</td>\n      <td>0.0</td>\n      <td>162.0</td>\n      <td>2.5</td>\n      <td>1040.0</td>\n      <td>676.0</td>\n      <td>28</td>\n      <td>79.99</td>\n    </tr>\n    <tr>\n      <th>1</th>\n      <td>540.0</td>\n      <td>0.0</td>\n      <td>0.0</td>\n      <td>162.0</td>\n      <td>2.5</td>\n      <td>1055.0</td>\n      <td>676.0</td>\n      <td>28</td>\n      <td>61.89</td>\n    </tr>\n    <tr>\n      <th>2</th>\n      <td>332.5</td>\n      <td>142.5</td>\n      <td>0.0</td>\n      <td>228.0</td>\n      <td>0.0</td>\n      <td>932.0</td>\n      <td>594.0</td>\n      <td>270</td>\n      <td>40.27</td>\n    </tr>\n    <tr>\n      <th>3</th>\n      <td>332.5</td>\n      <td>142.5</td>\n      <td>0.0</td>\n      <td>228.0</td>\n      <td>0.0</td>\n      <td>932.0</td>\n      <td>594.0</td>\n      <td>365</td>\n      <td>41.05</td>\n    </tr>\n    <tr>\n      <th>4</th>\n      <td>198.6</td>\n      <td>132.4</td>\n      <td>0.0</td>\n      <td>192.0</td>\n      <td>0.0</td>\n      <td>978.4</td>\n      <td>825.5</td>\n      <td>360</td>\n      <td>44.30</td>\n    </tr>\n  </tbody>\n</table>\n</div>",
                        "text/plain": "   Cement  Blast Furnace Slag  Fly Ash  Water  Superplasticizer  \\\n0   540.0                 0.0      0.0  162.0               2.5   \n1   540.0                 0.0      0.0  162.0               2.5   \n2   332.5               142.5      0.0  228.0               0.0   \n3   332.5               142.5      0.0  228.0               0.0   \n4   198.6               132.4      0.0  192.0               0.0   \n\n   Coarse Aggregate  Fine Aggregate  Age  Strength  \n0            1040.0           676.0   28     79.99  \n1            1055.0           676.0   28     61.89  \n2             932.0           594.0  270     40.27  \n3             932.0           594.0  365     41.05  \n4             978.4           825.5  360     44.30  "
                    },
                    "execution_count": 2,
                    "metadata": {},
                    "output_type": "execute_result"
                }
            ],
            "source": "# The code was removed by Watson Studio for sharing."
        },
        {
            "cell_type": "code",
            "execution_count": 3,
            "metadata": {},
            "outputs": [
                {
                    "data": {
                        "text/plain": "(1030, 9)"
                    },
                    "execution_count": 3,
                    "metadata": {},
                    "output_type": "execute_result"
                }
            ],
            "source": "df.shape"
        },
        {
            "cell_type": "code",
            "execution_count": 4,
            "metadata": {},
            "outputs": [
                {
                    "data": {
                        "text/html": "<div>\n<style scoped>\n    .dataframe tbody tr th:only-of-type {\n        vertical-align: middle;\n    }\n\n    .dataframe tbody tr th {\n        vertical-align: top;\n    }\n\n    .dataframe thead th {\n        text-align: right;\n    }\n</style>\n<table border=\"1\" class=\"dataframe\">\n  <thead>\n    <tr style=\"text-align: right;\">\n      <th></th>\n      <th>Cement</th>\n      <th>Blast Furnace Slag</th>\n      <th>Fly Ash</th>\n      <th>Water</th>\n      <th>Superplasticizer</th>\n      <th>Coarse Aggregate</th>\n      <th>Fine Aggregate</th>\n      <th>Age</th>\n      <th>Strength</th>\n    </tr>\n  </thead>\n  <tbody>\n    <tr>\n      <th>count</th>\n      <td>1030.000000</td>\n      <td>1030.000000</td>\n      <td>1030.000000</td>\n      <td>1030.000000</td>\n      <td>1030.000000</td>\n      <td>1030.000000</td>\n      <td>1030.000000</td>\n      <td>1030.000000</td>\n      <td>1030.000000</td>\n    </tr>\n    <tr>\n      <th>mean</th>\n      <td>281.167864</td>\n      <td>73.895825</td>\n      <td>54.188350</td>\n      <td>181.567282</td>\n      <td>6.204660</td>\n      <td>972.918932</td>\n      <td>773.580485</td>\n      <td>45.662136</td>\n      <td>35.817961</td>\n    </tr>\n    <tr>\n      <th>std</th>\n      <td>104.506364</td>\n      <td>86.279342</td>\n      <td>63.997004</td>\n      <td>21.354219</td>\n      <td>5.973841</td>\n      <td>77.753954</td>\n      <td>80.175980</td>\n      <td>63.169912</td>\n      <td>16.705742</td>\n    </tr>\n    <tr>\n      <th>min</th>\n      <td>102.000000</td>\n      <td>0.000000</td>\n      <td>0.000000</td>\n      <td>121.800000</td>\n      <td>0.000000</td>\n      <td>801.000000</td>\n      <td>594.000000</td>\n      <td>1.000000</td>\n      <td>2.330000</td>\n    </tr>\n    <tr>\n      <th>25%</th>\n      <td>192.375000</td>\n      <td>0.000000</td>\n      <td>0.000000</td>\n      <td>164.900000</td>\n      <td>0.000000</td>\n      <td>932.000000</td>\n      <td>730.950000</td>\n      <td>7.000000</td>\n      <td>23.710000</td>\n    </tr>\n    <tr>\n      <th>50%</th>\n      <td>272.900000</td>\n      <td>22.000000</td>\n      <td>0.000000</td>\n      <td>185.000000</td>\n      <td>6.400000</td>\n      <td>968.000000</td>\n      <td>779.500000</td>\n      <td>28.000000</td>\n      <td>34.445000</td>\n    </tr>\n    <tr>\n      <th>75%</th>\n      <td>350.000000</td>\n      <td>142.950000</td>\n      <td>118.300000</td>\n      <td>192.000000</td>\n      <td>10.200000</td>\n      <td>1029.400000</td>\n      <td>824.000000</td>\n      <td>56.000000</td>\n      <td>46.135000</td>\n    </tr>\n    <tr>\n      <th>max</th>\n      <td>540.000000</td>\n      <td>359.400000</td>\n      <td>200.100000</td>\n      <td>247.000000</td>\n      <td>32.200000</td>\n      <td>1145.000000</td>\n      <td>992.600000</td>\n      <td>365.000000</td>\n      <td>82.600000</td>\n    </tr>\n  </tbody>\n</table>\n</div>",
                        "text/plain": "            Cement  Blast Furnace Slag      Fly Ash        Water  \\\ncount  1030.000000         1030.000000  1030.000000  1030.000000   \nmean    281.167864           73.895825    54.188350   181.567282   \nstd     104.506364           86.279342    63.997004    21.354219   \nmin     102.000000            0.000000     0.000000   121.800000   \n25%     192.375000            0.000000     0.000000   164.900000   \n50%     272.900000           22.000000     0.000000   185.000000   \n75%     350.000000          142.950000   118.300000   192.000000   \nmax     540.000000          359.400000   200.100000   247.000000   \n\n       Superplasticizer  Coarse Aggregate  Fine Aggregate          Age  \\\ncount       1030.000000       1030.000000     1030.000000  1030.000000   \nmean           6.204660        972.918932      773.580485    45.662136   \nstd            5.973841         77.753954       80.175980    63.169912   \nmin            0.000000        801.000000      594.000000     1.000000   \n25%            0.000000        932.000000      730.950000     7.000000   \n50%            6.400000        968.000000      779.500000    28.000000   \n75%           10.200000       1029.400000      824.000000    56.000000   \nmax           32.200000       1145.000000      992.600000   365.000000   \n\n          Strength  \ncount  1030.000000  \nmean     35.817961  \nstd      16.705742  \nmin       2.330000  \n25%      23.710000  \n50%      34.445000  \n75%      46.135000  \nmax      82.600000  "
                    },
                    "execution_count": 4,
                    "metadata": {},
                    "output_type": "execute_result"
                }
            ],
            "source": "df.describe()"
        },
        {
            "cell_type": "code",
            "execution_count": 5,
            "metadata": {},
            "outputs": [
                {
                    "data": {
                        "text/plain": "Cement                0\nBlast Furnace Slag    0\nFly Ash               0\nWater                 0\nSuperplasticizer      0\nCoarse Aggregate      0\nFine Aggregate        0\nAge                   0\nStrength              0\ndtype: int64"
                    },
                    "execution_count": 5,
                    "metadata": {},
                    "output_type": "execute_result"
                }
            ],
            "source": "df.isnull().sum()"
        },
        {
            "cell_type": "markdown",
            "metadata": {},
            "source": "### Split data into predictors and target\nThe target variable in this problem is the concrete sample strength. So, our predictors will be all the other columns"
        },
        {
            "cell_type": "code",
            "execution_count": 6,
            "metadata": {},
            "outputs": [],
            "source": "df_columns = df.columns\npredictors = df[df_columns[df_columns != 'Strength']] # all columns except Strength\ntarget = df['Strength'] # Strength column"
        },
        {
            "cell_type": "code",
            "execution_count": 7,
            "metadata": {},
            "outputs": [
                {
                    "data": {
                        "text/html": "<div>\n<style scoped>\n    .dataframe tbody tr th:only-of-type {\n        vertical-align: middle;\n    }\n\n    .dataframe tbody tr th {\n        vertical-align: top;\n    }\n\n    .dataframe thead th {\n        text-align: right;\n    }\n</style>\n<table border=\"1\" class=\"dataframe\">\n  <thead>\n    <tr style=\"text-align: right;\">\n      <th></th>\n      <th>Cement</th>\n      <th>Blast Furnace Slag</th>\n      <th>Fly Ash</th>\n      <th>Water</th>\n      <th>Superplasticizer</th>\n      <th>Coarse Aggregate</th>\n      <th>Fine Aggregate</th>\n      <th>Age</th>\n    </tr>\n  </thead>\n  <tbody>\n    <tr>\n      <th>0</th>\n      <td>540.0</td>\n      <td>0.0</td>\n      <td>0.0</td>\n      <td>162.0</td>\n      <td>2.5</td>\n      <td>1040.0</td>\n      <td>676.0</td>\n      <td>28</td>\n    </tr>\n    <tr>\n      <th>1</th>\n      <td>540.0</td>\n      <td>0.0</td>\n      <td>0.0</td>\n      <td>162.0</td>\n      <td>2.5</td>\n      <td>1055.0</td>\n      <td>676.0</td>\n      <td>28</td>\n    </tr>\n    <tr>\n      <th>2</th>\n      <td>332.5</td>\n      <td>142.5</td>\n      <td>0.0</td>\n      <td>228.0</td>\n      <td>0.0</td>\n      <td>932.0</td>\n      <td>594.0</td>\n      <td>270</td>\n    </tr>\n    <tr>\n      <th>3</th>\n      <td>332.5</td>\n      <td>142.5</td>\n      <td>0.0</td>\n      <td>228.0</td>\n      <td>0.0</td>\n      <td>932.0</td>\n      <td>594.0</td>\n      <td>365</td>\n    </tr>\n    <tr>\n      <th>4</th>\n      <td>198.6</td>\n      <td>132.4</td>\n      <td>0.0</td>\n      <td>192.0</td>\n      <td>0.0</td>\n      <td>978.4</td>\n      <td>825.5</td>\n      <td>360</td>\n    </tr>\n  </tbody>\n</table>\n</div>",
                        "text/plain": "   Cement  Blast Furnace Slag  Fly Ash  Water  Superplasticizer  \\\n0   540.0                 0.0      0.0  162.0               2.5   \n1   540.0                 0.0      0.0  162.0               2.5   \n2   332.5               142.5      0.0  228.0               0.0   \n3   332.5               142.5      0.0  228.0               0.0   \n4   198.6               132.4      0.0  192.0               0.0   \n\n   Coarse Aggregate  Fine Aggregate  Age  \n0            1040.0           676.0   28  \n1            1055.0           676.0   28  \n2             932.0           594.0  270  \n3             932.0           594.0  365  \n4             978.4           825.5  360  "
                    },
                    "execution_count": 7,
                    "metadata": {},
                    "output_type": "execute_result"
                }
            ],
            "source": "predictors.head()"
        },
        {
            "cell_type": "code",
            "execution_count": 8,
            "metadata": {},
            "outputs": [
                {
                    "data": {
                        "text/plain": "0    79.99\n1    61.89\n2    40.27\n3    41.05\n4    44.30\nName: Strength, dtype: float64"
                    },
                    "execution_count": 8,
                    "metadata": {},
                    "output_type": "execute_result"
                }
            ],
            "source": "target.head()"
        },
        {
            "cell_type": "code",
            "execution_count": 9,
            "metadata": {},
            "outputs": [
                {
                    "data": {
                        "text/html": "<div>\n<style scoped>\n    .dataframe tbody tr th:only-of-type {\n        vertical-align: middle;\n    }\n\n    .dataframe tbody tr th {\n        vertical-align: top;\n    }\n\n    .dataframe thead th {\n        text-align: right;\n    }\n</style>\n<table border=\"1\" class=\"dataframe\">\n  <thead>\n    <tr style=\"text-align: right;\">\n      <th></th>\n      <th>Cement</th>\n      <th>Blast Furnace Slag</th>\n      <th>Fly Ash</th>\n      <th>Water</th>\n      <th>Superplasticizer</th>\n      <th>Coarse Aggregate</th>\n      <th>Fine Aggregate</th>\n      <th>Age</th>\n    </tr>\n  </thead>\n  <tbody>\n    <tr>\n      <th>0</th>\n      <td>2.476712</td>\n      <td>-0.856472</td>\n      <td>-0.846733</td>\n      <td>-0.916319</td>\n      <td>-0.620147</td>\n      <td>0.862735</td>\n      <td>-1.217079</td>\n      <td>-0.279597</td>\n    </tr>\n    <tr>\n      <th>1</th>\n      <td>2.476712</td>\n      <td>-0.856472</td>\n      <td>-0.846733</td>\n      <td>-0.916319</td>\n      <td>-0.620147</td>\n      <td>1.055651</td>\n      <td>-1.217079</td>\n      <td>-0.279597</td>\n    </tr>\n    <tr>\n      <th>2</th>\n      <td>0.491187</td>\n      <td>0.795140</td>\n      <td>-0.846733</td>\n      <td>2.174405</td>\n      <td>-1.038638</td>\n      <td>-0.526262</td>\n      <td>-2.239829</td>\n      <td>3.551340</td>\n    </tr>\n    <tr>\n      <th>3</th>\n      <td>0.491187</td>\n      <td>0.795140</td>\n      <td>-0.846733</td>\n      <td>2.174405</td>\n      <td>-1.038638</td>\n      <td>-0.526262</td>\n      <td>-2.239829</td>\n      <td>5.055221</td>\n    </tr>\n    <tr>\n      <th>4</th>\n      <td>-0.790075</td>\n      <td>0.678079</td>\n      <td>-0.846733</td>\n      <td>0.488555</td>\n      <td>-1.038638</td>\n      <td>0.070492</td>\n      <td>0.647569</td>\n      <td>4.976069</td>\n    </tr>\n  </tbody>\n</table>\n</div>",
                        "text/plain": "     Cement  Blast Furnace Slag   Fly Ash     Water  Superplasticizer  \\\n0  2.476712           -0.856472 -0.846733 -0.916319         -0.620147   \n1  2.476712           -0.856472 -0.846733 -0.916319         -0.620147   \n2  0.491187            0.795140 -0.846733  2.174405         -1.038638   \n3  0.491187            0.795140 -0.846733  2.174405         -1.038638   \n4 -0.790075            0.678079 -0.846733  0.488555         -1.038638   \n\n   Coarse Aggregate  Fine Aggregate       Age  \n0          0.862735       -1.217079 -0.279597  \n1          1.055651       -1.217079 -0.279597  \n2         -0.526262       -2.239829  3.551340  \n3         -0.526262       -2.239829  5.055221  \n4          0.070492        0.647569  4.976069  "
                    },
                    "execution_count": 9,
                    "metadata": {},
                    "output_type": "execute_result"
                }
            ],
            "source": "predictors_norm = (predictors - predictors.mean()) / predictors.std()\npredictors_norm.head()"
        },
        {
            "cell_type": "code",
            "execution_count": 18,
            "metadata": {},
            "outputs": [
                {
                    "data": {
                        "text/plain": "8"
                    },
                    "execution_count": 18,
                    "metadata": {},
                    "output_type": "execute_result"
                }
            ],
            "source": "n_cols = predictors.shape[1] # number of predictors\nn_cols"
        },
        {
            "cell_type": "markdown",
            "metadata": {},
            "source": "## Import Keras\nLet's go ahead and import the Keras library"
        },
        {
            "cell_type": "code",
            "execution_count": 19,
            "metadata": {},
            "outputs": [],
            "source": "import keras\nfrom keras.models import Sequential\nfrom keras.layers import Dense"
        },
        {
            "cell_type": "code",
            "execution_count": 20,
            "metadata": {},
            "outputs": [],
            "source": "# define regression model\ndef regression_model():\n    # create model\n    model = Sequential()\n    model.add(Dense(10, activation='relu', input_shape=(n_cols,)))\n    model.add(Dense(1))\n    \n    # compile model\n    model.compile(optimizer='adam', loss='mean_squared_error')\n    return model"
        },
        {
            "cell_type": "code",
            "execution_count": 21,
            "metadata": {},
            "outputs": [],
            "source": "from sklearn.model_selection import train_test_split\n\nX_train, X_test, y_train, y_test = train_test_split(predictors, target, test_size=0.3, random_state=42)"
        },
        {
            "cell_type": "code",
            "execution_count": 22,
            "metadata": {},
            "outputs": [
                {
                    "name": "stdout",
                    "output_type": "stream",
                    "text": "WARNING:tensorflow:From /opt/conda/envs/Python36/lib/python3.6/site-packages/tensorflow/python/framework/op_def_library.py:263: colocate_with (from tensorflow.python.framework.ops) is deprecated and will be removed in a future version.\nInstructions for updating:\nColocations handled automatically by placer.\n"
                }
            ],
            "source": "# build the model\nmodel = regression_model()"
        },
        {
            "cell_type": "code",
            "execution_count": 23,
            "metadata": {},
            "outputs": [
                {
                    "name": "stdout",
                    "output_type": "stream",
                    "text": "WARNING:tensorflow:From /opt/conda/envs/Python36/lib/python3.6/site-packages/tensorflow/python/ops/math_ops.py:3066: to_int32 (from tensorflow.python.ops.math_ops) is deprecated and will be removed in a future version.\nInstructions for updating:\nUse tf.cast instead.\nEpoch 1/100\n - 1s - loss: 31453.3142\nEpoch 2/100\n - 0s - loss: 6155.3161\nEpoch 3/100\n - 0s - loss: 2217.5977\nEpoch 4/100\n - 0s - loss: 1606.5671\nEpoch 5/100\n - 0s - loss: 1310.4232\nEpoch 6/100\n - 0s - loss: 1123.8731\nEpoch 7/100\n - 0s - loss: 941.8601\nEpoch 8/100\n - 0s - loss: 814.3483\nEpoch 9/100\n - 0s - loss: 732.9418\nEpoch 10/100\n - 0s - loss: 682.0594\nEpoch 11/100\n - 0s - loss: 637.9085\nEpoch 12/100\n - 0s - loss: 602.3982\nEpoch 13/100\n - 0s - loss: 571.0796\nEpoch 14/100\n - 0s - loss: 544.2549\nEpoch 15/100\n - 0s - loss: 517.6694\nEpoch 16/100\n - 0s - loss: 495.2654\nEpoch 17/100\n - 0s - loss: 472.3566\nEpoch 18/100\n - 0s - loss: 450.6946\nEpoch 19/100\n - 0s - loss: 434.5214\nEpoch 20/100\n - 0s - loss: 415.4508\nEpoch 21/100\n - 0s - loss: 394.9885\nEpoch 22/100\n - 0s - loss: 377.6264\nEpoch 23/100\n - 0s - loss: 360.5084\nEpoch 24/100\n - 0s - loss: 343.1308\nEpoch 25/100\n - 0s - loss: 331.8061\nEpoch 26/100\n - 0s - loss: 311.2274\nEpoch 27/100\n - 0s - loss: 296.2579\nEpoch 28/100\n - 0s - loss: 281.5439\nEpoch 29/100\n - 0s - loss: 266.2095\nEpoch 30/100\n - 0s - loss: 252.7324\nEpoch 31/100\n - 0s - loss: 240.8745\nEpoch 32/100\n - 0s - loss: 229.2604\nEpoch 33/100\n - 0s - loss: 218.3932\nEpoch 34/100\n - 0s - loss: 209.3209\nEpoch 35/100\n - 0s - loss: 200.2806\nEpoch 36/100\n - 0s - loss: 192.1326\nEpoch 37/100\n - 0s - loss: 184.8733\nEpoch 38/100\n - 0s - loss: 178.3869\nEpoch 39/100\n - 0s - loss: 171.6105\nEpoch 40/100\n - 0s - loss: 165.7119\nEpoch 41/100\n - 0s - loss: 159.8062\nEpoch 42/100\n - 0s - loss: 154.7959\nEpoch 43/100\n - 0s - loss: 151.2041\nEpoch 44/100\n - 0s - loss: 146.0335\nEpoch 45/100\n - 0s - loss: 141.3374\nEpoch 46/100\n - 0s - loss: 138.1538\nEpoch 47/100\n - 0s - loss: 134.0532\nEpoch 48/100\n - 0s - loss: 130.7560\nEpoch 49/100\n - 0s - loss: 126.8709\nEpoch 50/100\n - 0s - loss: 124.7085\nEpoch 51/100\n - 0s - loss: 121.6900\nEpoch 52/100\n - 1s - loss: 119.6280\nEpoch 53/100\n - 0s - loss: 119.1097\nEpoch 54/100\n - 0s - loss: 118.4542\nEpoch 55/100\n - 0s - loss: 114.8306\nEpoch 56/100\n - 0s - loss: 113.2000\nEpoch 57/100\n - 0s - loss: 111.1896\nEpoch 58/100\n - 0s - loss: 110.3392\nEpoch 59/100\n - 0s - loss: 109.5159\nEpoch 60/100\n - 0s - loss: 106.9734\nEpoch 61/100\n - 0s - loss: 105.8231\nEpoch 62/100\n - 0s - loss: 103.9279\nEpoch 63/100\n - 0s - loss: 101.9110\nEpoch 64/100\n - 0s - loss: 101.3731\nEpoch 65/100\n - 0s - loss: 100.2124\nEpoch 66/100\n - 0s - loss: 99.4847\nEpoch 67/100\n - 0s - loss: 98.3874\nEpoch 68/100\n - 0s - loss: 98.1550\nEpoch 69/100\n - 0s - loss: 95.7420\nEpoch 70/100\n - 0s - loss: 95.6879\nEpoch 71/100\n - 0s - loss: 95.3854\nEpoch 72/100\n - 0s - loss: 94.4852\nEpoch 73/100\n - 0s - loss: 93.2987\nEpoch 74/100\n - 0s - loss: 92.8461\nEpoch 75/100\n - 0s - loss: 92.1751\nEpoch 76/100\n - 0s - loss: 91.2986\nEpoch 77/100\n - 0s - loss: 90.2950\nEpoch 78/100\n - 0s - loss: 90.8764\nEpoch 79/100\n - 0s - loss: 89.0638\nEpoch 80/100\n - 0s - loss: 90.5928\nEpoch 81/100\n - 0s - loss: 89.9773\nEpoch 82/100\n - 0s - loss: 88.0997\nEpoch 83/100\n - 0s - loss: 87.6333\nEpoch 84/100\n - 0s - loss: 87.4855\nEpoch 85/100\n - 0s - loss: 86.3531\nEpoch 86/100\n - 0s - loss: 86.5414\nEpoch 87/100\n - 0s - loss: 87.7275\nEpoch 88/100\n - 0s - loss: 85.6369\nEpoch 89/100\n - 0s - loss: 84.8267\nEpoch 90/100\n - 0s - loss: 84.6179\nEpoch 91/100\n - 0s - loss: 83.4555\nEpoch 92/100\n - 0s - loss: 83.2707\nEpoch 93/100\n - 0s - loss: 83.3698\nEpoch 94/100\n - 0s - loss: 82.7751\nEpoch 95/100\n - 0s - loss: 83.1014\nEpoch 96/100\n - 0s - loss: 81.6210\nEpoch 97/100\n - 0s - loss: 83.1889\nEpoch 98/100\n - 0s - loss: 82.6508\nEpoch 99/100\n - 0s - loss: 81.7096\nEpoch 100/100\n - 0s - loss: 80.2155\n"
                },
                {
                    "data": {
                        "text/plain": "<keras.callbacks.History at 0x7fbad2968278>"
                    },
                    "execution_count": 23,
                    "metadata": {},
                    "output_type": "execute_result"
                }
            ],
            "source": "# fit the model\nepochs = 100\nmodel.fit(X_train, y_train, epochs=epochs, verbose=2)"
        },
        {
            "cell_type": "code",
            "execution_count": 24,
            "metadata": {},
            "outputs": [
                {
                    "name": "stdout",
                    "output_type": "stream",
                    "text": "309/309 [==============================] - 0s 369us/step\n"
                },
                {
                    "data": {
                        "text/plain": "90.4638030907097"
                    },
                    "execution_count": 24,
                    "metadata": {},
                    "output_type": "execute_result"
                }
            ],
            "source": "loss_val = model.evaluate(X_test, y_test)\ny_pred = model.predict(X_test)\nloss_val"
        },
        {
            "cell_type": "markdown",
            "metadata": {},
            "source": "### Now we need to compute the mean squared error between the predicted concrete strength and the actual concrete strength.\n\nLet's import the mean_squared_error function from Scikit-learn."
        },
        {
            "cell_type": "code",
            "execution_count": 25,
            "metadata": {},
            "outputs": [
                {
                    "name": "stdout",
                    "output_type": "stream",
                    "text": "90.46380577123757 0.0\n"
                }
            ],
            "source": "from sklearn.metrics import mean_squared_error\n\nmean_square_error = mean_squared_error(y_test, y_pred)\nmean = np.mean(mean_square_error)\nstandard_deviation = np.std(mean_square_error)\nprint(mean, standard_deviation)"
        },
        {
            "cell_type": "code",
            "execution_count": 26,
            "metadata": {},
            "outputs": [
                {
                    "name": "stdout",
                    "output_type": "stream",
                    "text": "MSE 1: 66.61600072175554\nMSE 2: 87.5740755692269\nMSE 3: 60.6589469292403\nMSE 4: 63.44225707563382\nMSE 5: 60.8459341055367\nMSE 6: 60.026473085471345\nMSE 7: 64.41358409498888\nMSE 8: 48.99084165258315\nMSE 9: 47.58350197011213\nMSE 10: 48.67091031367725\nMSE 11: 48.44127998228598\nMSE 12: 42.41249867781852\nMSE 13: 51.23710478007986\nMSE 14: 47.6998493355069\nMSE 15: 44.25156005069276\nMSE 16: 38.698493198283664\nMSE 17: 47.81580426854995\nMSE 18: 44.6302815162634\nMSE 19: 41.33511057486426\nMSE 20: 46.67601972413294\nMSE 21: 42.44797738084515\nMSE 22: 43.33365918748973\nMSE 23: 42.54711132605099\nMSE 24: 44.605568450631445\nMSE 25: 52.276146873301286\nMSE 26: 46.56287808711475\nMSE 27: 43.03453239268084\nMSE 28: 48.229908520349795\nMSE 29: 50.30229917853396\nMSE 30: 45.588301834550876\nMSE 31: 46.55122814980911\nMSE 32: 34.86165445445039\nMSE 33: 45.162712590979915\nMSE 34: 39.46105450874008\nMSE 35: 46.119821468217474\nMSE 36: 51.54619942822502\nMSE 37: 43.74299768491085\nMSE 38: 51.544916714665185\nMSE 39: 43.73579511673319\nMSE 40: 39.217855521390355\nMSE 41: 49.15121974759889\nMSE 42: 42.93416815205299\nMSE 43: 41.40488756050184\nMSE 44: 46.29799129893479\nMSE 45: 46.575271976804274\nMSE 46: 46.15518518096035\nMSE 47: 43.88428362750698\nMSE 48: 47.87842083285928\nMSE 49: 44.47665568231379\nMSE 50: 45.10966720087243\nMSE 51: 35.38876505114114\nMSE 52: 39.807464815652104\nMSE 53: 40.36175527233136\nMSE 54: 39.92118179913864\nMSE 55: 56.345275138188335\nMSE 56: 41.104857571302496\nMSE 57: 40.961936839575905\nMSE 58: 46.77019616778229\nMSE 59: 60.92819922487327\nMSE 60: 52.387385099836926\nMSE 61: 37.59061530647154\nMSE 62: 45.65019856918977\nMSE 63: 42.82358865830505\nMSE 64: 41.99506612734501\nMSE 65: 41.07169295128881\nMSE 66: 43.17604866151285\nMSE 67: 40.748902725170346\nMSE 68: 46.15716582363092\nMSE 69: 50.00909523825044\nMSE 70: 46.57924340998085\nMSE 71: 44.37148928102166\nMSE 72: 40.246924847846664\nMSE 73: 36.57674770910763\nMSE 74: 37.07134049301394\nMSE 75: 44.133763396624225\nMSE 76: 58.117924193348315\nMSE 77: 36.38306912172188\nMSE 78: 36.7350424115326\nMSE 79: 55.62637055035934\nMSE 80: 42.34875283349293\nMSE 81: 40.73349585425121\nMSE 82: 42.19919120763883\nMSE 83: 38.621515292565796\nMSE 84: 38.06700142301788\nMSE 85: 40.177110097940684\nMSE 86: 36.40029762786569\nMSE 87: 38.05887322904223\nMSE 88: 32.37910947830546\nMSE 89: 32.66889868122089\nMSE 90: 36.55758837357308\nMSE 91: 44.787820964183624\nMSE 92: 33.98808981762735\nMSE 93: 37.43806315548598\nMSE 94: 35.427656278641095\nMSE 95: 37.99198171621773\nMSE 96: 39.78621542106554\nMSE 97: 40.26020325348987\nMSE 98: 38.652152027512834\nMSE 99: 39.04257418808428\nMSE 100: 35.98796455605516\n\n\nBelow is the mean and standard deviation of 100 mean squared errors without normalized data. Total number of epochs for each training is: 100\n\nMean: 44.973767541859864\nStandard Deviation: 8.270997708619964\n"
                }
            ],
            "source": "total_mean_squared_errors = 100\nepochs = 100\nmean_squared_errors = []\nfor i in range(0, total_mean_squared_errors):\n    X_train, X_test, y_train, y_test = train_test_split(predictors, target, test_size=0.3, random_state=i)\n    model.fit(X_train, y_train, epochs=epochs, verbose=0)\n    MSE = model.evaluate(X_test, y_test, verbose=0)\n    print(\"MSE \"+str(i+1)+\": \"+str(MSE))\n    y_pred = model.predict(X_test)\n    mean_square_error = mean_squared_error(y_test, y_pred)\n    mean_squared_errors.append(mean_square_error)\n\nmean_squared_errors = np.array(mean_squared_errors)\nmean = np.mean(mean_squared_errors)\nstandard_deviation = np.std(mean_squared_errors)\n\nprint('\\n')\nprint(\"Below is the mean and standard deviation of \" +str(total_mean_squared_errors) + \" mean squared errors without normalized data. Total number of epochs for each training is: \" +str(epochs) + \"\\n\")\nprint(\"Mean: \"+str(mean))\nprint(\"Standard Deviation: \"+str(standard_deviation))"
        },
        {
            "cell_type": "markdown",
            "metadata": {},
            "source": "##### The mean of the mean squared errors is lower when compared to that from Step B"
        }
    ],
    "metadata": {
        "kernelspec": {
            "display_name": "Python 3.6",
            "language": "python",
            "name": "python3"
        },
        "language_info": {
            "codemirror_mode": {
                "name": "ipython",
                "version": 3
            },
            "file_extension": ".py",
            "mimetype": "text/x-python",
            "name": "python",
            "nbconvert_exporter": "python",
            "pygments_lexer": "ipython3",
            "version": "3.6.9"
        }
    },
    "nbformat": 4,
    "nbformat_minor": 1
}