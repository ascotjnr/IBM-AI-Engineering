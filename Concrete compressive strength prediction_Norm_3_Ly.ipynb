{
    "cells": [
        {
            "cell_type": "markdown",
            "metadata": {
                "collapsed": true
            },
            "source": "## Download and Clean Dataset\nLet's start by importing the pandas and the Numpy libraries."
        },
        {
            "cell_type": "code",
            "execution_count": 1,
            "metadata": {},
            "outputs": [],
            "source": "import pandas as pd\nimport numpy as np"
        },
        {
            "cell_type": "code",
            "execution_count": 2,
            "metadata": {},
            "outputs": [
                {
                    "data": {
                        "text/html": "<div>\n<style scoped>\n    .dataframe tbody tr th:only-of-type {\n        vertical-align: middle;\n    }\n\n    .dataframe tbody tr th {\n        vertical-align: top;\n    }\n\n    .dataframe thead th {\n        text-align: right;\n    }\n</style>\n<table border=\"1\" class=\"dataframe\">\n  <thead>\n    <tr style=\"text-align: right;\">\n      <th></th>\n      <th>Cement</th>\n      <th>Blast Furnace Slag</th>\n      <th>Fly Ash</th>\n      <th>Water</th>\n      <th>Superplasticizer</th>\n      <th>Coarse Aggregate</th>\n      <th>Fine Aggregate</th>\n      <th>Age</th>\n      <th>Strength</th>\n    </tr>\n  </thead>\n  <tbody>\n    <tr>\n      <th>0</th>\n      <td>540.0</td>\n      <td>0.0</td>\n      <td>0.0</td>\n      <td>162.0</td>\n      <td>2.5</td>\n      <td>1040.0</td>\n      <td>676.0</td>\n      <td>28</td>\n      <td>79.99</td>\n    </tr>\n    <tr>\n      <th>1</th>\n      <td>540.0</td>\n      <td>0.0</td>\n      <td>0.0</td>\n      <td>162.0</td>\n      <td>2.5</td>\n      <td>1055.0</td>\n      <td>676.0</td>\n      <td>28</td>\n      <td>61.89</td>\n    </tr>\n    <tr>\n      <th>2</th>\n      <td>332.5</td>\n      <td>142.5</td>\n      <td>0.0</td>\n      <td>228.0</td>\n      <td>0.0</td>\n      <td>932.0</td>\n      <td>594.0</td>\n      <td>270</td>\n      <td>40.27</td>\n    </tr>\n    <tr>\n      <th>3</th>\n      <td>332.5</td>\n      <td>142.5</td>\n      <td>0.0</td>\n      <td>228.0</td>\n      <td>0.0</td>\n      <td>932.0</td>\n      <td>594.0</td>\n      <td>365</td>\n      <td>41.05</td>\n    </tr>\n    <tr>\n      <th>4</th>\n      <td>198.6</td>\n      <td>132.4</td>\n      <td>0.0</td>\n      <td>192.0</td>\n      <td>0.0</td>\n      <td>978.4</td>\n      <td>825.5</td>\n      <td>360</td>\n      <td>44.30</td>\n    </tr>\n  </tbody>\n</table>\n</div>",
                        "text/plain": "   Cement  Blast Furnace Slag  Fly Ash  Water  Superplasticizer  \\\n0   540.0                 0.0      0.0  162.0               2.5   \n1   540.0                 0.0      0.0  162.0               2.5   \n2   332.5               142.5      0.0  228.0               0.0   \n3   332.5               142.5      0.0  228.0               0.0   \n4   198.6               132.4      0.0  192.0               0.0   \n\n   Coarse Aggregate  Fine Aggregate  Age  Strength  \n0            1040.0           676.0   28     79.99  \n1            1055.0           676.0   28     61.89  \n2             932.0           594.0  270     40.27  \n3             932.0           594.0  365     41.05  \n4             978.4           825.5  360     44.30  "
                    },
                    "execution_count": 2,
                    "metadata": {},
                    "output_type": "execute_result"
                }
            ],
            "source": "# The code was removed by Watson Studio for sharing."
        },
        {
            "cell_type": "code",
            "execution_count": 3,
            "metadata": {},
            "outputs": [
                {
                    "data": {
                        "text/plain": "(1030, 9)"
                    },
                    "execution_count": 3,
                    "metadata": {},
                    "output_type": "execute_result"
                }
            ],
            "source": "df.shape"
        },
        {
            "cell_type": "code",
            "execution_count": 4,
            "metadata": {},
            "outputs": [
                {
                    "data": {
                        "text/html": "<div>\n<style scoped>\n    .dataframe tbody tr th:only-of-type {\n        vertical-align: middle;\n    }\n\n    .dataframe tbody tr th {\n        vertical-align: top;\n    }\n\n    .dataframe thead th {\n        text-align: right;\n    }\n</style>\n<table border=\"1\" class=\"dataframe\">\n  <thead>\n    <tr style=\"text-align: right;\">\n      <th></th>\n      <th>Cement</th>\n      <th>Blast Furnace Slag</th>\n      <th>Fly Ash</th>\n      <th>Water</th>\n      <th>Superplasticizer</th>\n      <th>Coarse Aggregate</th>\n      <th>Fine Aggregate</th>\n      <th>Age</th>\n      <th>Strength</th>\n    </tr>\n  </thead>\n  <tbody>\n    <tr>\n      <th>count</th>\n      <td>1030.000000</td>\n      <td>1030.000000</td>\n      <td>1030.000000</td>\n      <td>1030.000000</td>\n      <td>1030.000000</td>\n      <td>1030.000000</td>\n      <td>1030.000000</td>\n      <td>1030.000000</td>\n      <td>1030.000000</td>\n    </tr>\n    <tr>\n      <th>mean</th>\n      <td>281.167864</td>\n      <td>73.895825</td>\n      <td>54.188350</td>\n      <td>181.567282</td>\n      <td>6.204660</td>\n      <td>972.918932</td>\n      <td>773.580485</td>\n      <td>45.662136</td>\n      <td>35.817961</td>\n    </tr>\n    <tr>\n      <th>std</th>\n      <td>104.506364</td>\n      <td>86.279342</td>\n      <td>63.997004</td>\n      <td>21.354219</td>\n      <td>5.973841</td>\n      <td>77.753954</td>\n      <td>80.175980</td>\n      <td>63.169912</td>\n      <td>16.705742</td>\n    </tr>\n    <tr>\n      <th>min</th>\n      <td>102.000000</td>\n      <td>0.000000</td>\n      <td>0.000000</td>\n      <td>121.800000</td>\n      <td>0.000000</td>\n      <td>801.000000</td>\n      <td>594.000000</td>\n      <td>1.000000</td>\n      <td>2.330000</td>\n    </tr>\n    <tr>\n      <th>25%</th>\n      <td>192.375000</td>\n      <td>0.000000</td>\n      <td>0.000000</td>\n      <td>164.900000</td>\n      <td>0.000000</td>\n      <td>932.000000</td>\n      <td>730.950000</td>\n      <td>7.000000</td>\n      <td>23.710000</td>\n    </tr>\n    <tr>\n      <th>50%</th>\n      <td>272.900000</td>\n      <td>22.000000</td>\n      <td>0.000000</td>\n      <td>185.000000</td>\n      <td>6.400000</td>\n      <td>968.000000</td>\n      <td>779.500000</td>\n      <td>28.000000</td>\n      <td>34.445000</td>\n    </tr>\n    <tr>\n      <th>75%</th>\n      <td>350.000000</td>\n      <td>142.950000</td>\n      <td>118.300000</td>\n      <td>192.000000</td>\n      <td>10.200000</td>\n      <td>1029.400000</td>\n      <td>824.000000</td>\n      <td>56.000000</td>\n      <td>46.135000</td>\n    </tr>\n    <tr>\n      <th>max</th>\n      <td>540.000000</td>\n      <td>359.400000</td>\n      <td>200.100000</td>\n      <td>247.000000</td>\n      <td>32.200000</td>\n      <td>1145.000000</td>\n      <td>992.600000</td>\n      <td>365.000000</td>\n      <td>82.600000</td>\n    </tr>\n  </tbody>\n</table>\n</div>",
                        "text/plain": "            Cement  Blast Furnace Slag      Fly Ash        Water  \\\ncount  1030.000000         1030.000000  1030.000000  1030.000000   \nmean    281.167864           73.895825    54.188350   181.567282   \nstd     104.506364           86.279342    63.997004    21.354219   \nmin     102.000000            0.000000     0.000000   121.800000   \n25%     192.375000            0.000000     0.000000   164.900000   \n50%     272.900000           22.000000     0.000000   185.000000   \n75%     350.000000          142.950000   118.300000   192.000000   \nmax     540.000000          359.400000   200.100000   247.000000   \n\n       Superplasticizer  Coarse Aggregate  Fine Aggregate          Age  \\\ncount       1030.000000       1030.000000     1030.000000  1030.000000   \nmean           6.204660        972.918932      773.580485    45.662136   \nstd            5.973841         77.753954       80.175980    63.169912   \nmin            0.000000        801.000000      594.000000     1.000000   \n25%            0.000000        932.000000      730.950000     7.000000   \n50%            6.400000        968.000000      779.500000    28.000000   \n75%           10.200000       1029.400000      824.000000    56.000000   \nmax           32.200000       1145.000000      992.600000   365.000000   \n\n          Strength  \ncount  1030.000000  \nmean     35.817961  \nstd      16.705742  \nmin       2.330000  \n25%      23.710000  \n50%      34.445000  \n75%      46.135000  \nmax      82.600000  "
                    },
                    "execution_count": 4,
                    "metadata": {},
                    "output_type": "execute_result"
                }
            ],
            "source": "df.describe()"
        },
        {
            "cell_type": "code",
            "execution_count": 5,
            "metadata": {},
            "outputs": [
                {
                    "data": {
                        "text/plain": "Cement                0\nBlast Furnace Slag    0\nFly Ash               0\nWater                 0\nSuperplasticizer      0\nCoarse Aggregate      0\nFine Aggregate        0\nAge                   0\nStrength              0\ndtype: int64"
                    },
                    "execution_count": 5,
                    "metadata": {},
                    "output_type": "execute_result"
                }
            ],
            "source": "df.isnull().sum()"
        },
        {
            "cell_type": "markdown",
            "metadata": {},
            "source": "### Split data into predictors and target\nThe target variable in this problem is the concrete sample strength. So, our predictors will be all the other columns"
        },
        {
            "cell_type": "code",
            "execution_count": 5,
            "metadata": {},
            "outputs": [],
            "source": "df_columns = df.columns\npredictors = df[df_columns[df_columns != 'Strength']] # all columns except Strength\ntarget = df['Strength'] # Strength column"
        },
        {
            "cell_type": "code",
            "execution_count": 6,
            "metadata": {},
            "outputs": [
                {
                    "data": {
                        "text/html": "<div>\n<style scoped>\n    .dataframe tbody tr th:only-of-type {\n        vertical-align: middle;\n    }\n\n    .dataframe tbody tr th {\n        vertical-align: top;\n    }\n\n    .dataframe thead th {\n        text-align: right;\n    }\n</style>\n<table border=\"1\" class=\"dataframe\">\n  <thead>\n    <tr style=\"text-align: right;\">\n      <th></th>\n      <th>Cement</th>\n      <th>Blast Furnace Slag</th>\n      <th>Fly Ash</th>\n      <th>Water</th>\n      <th>Superplasticizer</th>\n      <th>Coarse Aggregate</th>\n      <th>Fine Aggregate</th>\n      <th>Age</th>\n    </tr>\n  </thead>\n  <tbody>\n    <tr>\n      <th>0</th>\n      <td>540.0</td>\n      <td>0.0</td>\n      <td>0.0</td>\n      <td>162.0</td>\n      <td>2.5</td>\n      <td>1040.0</td>\n      <td>676.0</td>\n      <td>28</td>\n    </tr>\n    <tr>\n      <th>1</th>\n      <td>540.0</td>\n      <td>0.0</td>\n      <td>0.0</td>\n      <td>162.0</td>\n      <td>2.5</td>\n      <td>1055.0</td>\n      <td>676.0</td>\n      <td>28</td>\n    </tr>\n    <tr>\n      <th>2</th>\n      <td>332.5</td>\n      <td>142.5</td>\n      <td>0.0</td>\n      <td>228.0</td>\n      <td>0.0</td>\n      <td>932.0</td>\n      <td>594.0</td>\n      <td>270</td>\n    </tr>\n    <tr>\n      <th>3</th>\n      <td>332.5</td>\n      <td>142.5</td>\n      <td>0.0</td>\n      <td>228.0</td>\n      <td>0.0</td>\n      <td>932.0</td>\n      <td>594.0</td>\n      <td>365</td>\n    </tr>\n    <tr>\n      <th>4</th>\n      <td>198.6</td>\n      <td>132.4</td>\n      <td>0.0</td>\n      <td>192.0</td>\n      <td>0.0</td>\n      <td>978.4</td>\n      <td>825.5</td>\n      <td>360</td>\n    </tr>\n  </tbody>\n</table>\n</div>",
                        "text/plain": "   Cement  Blast Furnace Slag  Fly Ash  Water  Superplasticizer  \\\n0   540.0                 0.0      0.0  162.0               2.5   \n1   540.0                 0.0      0.0  162.0               2.5   \n2   332.5               142.5      0.0  228.0               0.0   \n3   332.5               142.5      0.0  228.0               0.0   \n4   198.6               132.4      0.0  192.0               0.0   \n\n   Coarse Aggregate  Fine Aggregate  Age  \n0            1040.0           676.0   28  \n1            1055.0           676.0   28  \n2             932.0           594.0  270  \n3             932.0           594.0  365  \n4             978.4           825.5  360  "
                    },
                    "execution_count": 6,
                    "metadata": {},
                    "output_type": "execute_result"
                }
            ],
            "source": "predictors.head()"
        },
        {
            "cell_type": "code",
            "execution_count": 7,
            "metadata": {},
            "outputs": [
                {
                    "data": {
                        "text/plain": "0    79.99\n1    61.89\n2    40.27\n3    41.05\n4    44.30\nName: Strength, dtype: float64"
                    },
                    "execution_count": 7,
                    "metadata": {},
                    "output_type": "execute_result"
                }
            ],
            "source": "target.head()"
        },
        {
            "cell_type": "code",
            "execution_count": 8,
            "metadata": {},
            "outputs": [
                {
                    "data": {
                        "text/html": "<div>\n<style scoped>\n    .dataframe tbody tr th:only-of-type {\n        vertical-align: middle;\n    }\n\n    .dataframe tbody tr th {\n        vertical-align: top;\n    }\n\n    .dataframe thead th {\n        text-align: right;\n    }\n</style>\n<table border=\"1\" class=\"dataframe\">\n  <thead>\n    <tr style=\"text-align: right;\">\n      <th></th>\n      <th>Cement</th>\n      <th>Blast Furnace Slag</th>\n      <th>Fly Ash</th>\n      <th>Water</th>\n      <th>Superplasticizer</th>\n      <th>Coarse Aggregate</th>\n      <th>Fine Aggregate</th>\n      <th>Age</th>\n    </tr>\n  </thead>\n  <tbody>\n    <tr>\n      <th>0</th>\n      <td>2.476712</td>\n      <td>-0.856472</td>\n      <td>-0.846733</td>\n      <td>-0.916319</td>\n      <td>-0.620147</td>\n      <td>0.862735</td>\n      <td>-1.217079</td>\n      <td>-0.279597</td>\n    </tr>\n    <tr>\n      <th>1</th>\n      <td>2.476712</td>\n      <td>-0.856472</td>\n      <td>-0.846733</td>\n      <td>-0.916319</td>\n      <td>-0.620147</td>\n      <td>1.055651</td>\n      <td>-1.217079</td>\n      <td>-0.279597</td>\n    </tr>\n    <tr>\n      <th>2</th>\n      <td>0.491187</td>\n      <td>0.795140</td>\n      <td>-0.846733</td>\n      <td>2.174405</td>\n      <td>-1.038638</td>\n      <td>-0.526262</td>\n      <td>-2.239829</td>\n      <td>3.551340</td>\n    </tr>\n    <tr>\n      <th>3</th>\n      <td>0.491187</td>\n      <td>0.795140</td>\n      <td>-0.846733</td>\n      <td>2.174405</td>\n      <td>-1.038638</td>\n      <td>-0.526262</td>\n      <td>-2.239829</td>\n      <td>5.055221</td>\n    </tr>\n    <tr>\n      <th>4</th>\n      <td>-0.790075</td>\n      <td>0.678079</td>\n      <td>-0.846733</td>\n      <td>0.488555</td>\n      <td>-1.038638</td>\n      <td>0.070492</td>\n      <td>0.647569</td>\n      <td>4.976069</td>\n    </tr>\n  </tbody>\n</table>\n</div>",
                        "text/plain": "     Cement  Blast Furnace Slag   Fly Ash     Water  Superplasticizer  \\\n0  2.476712           -0.856472 -0.846733 -0.916319         -0.620147   \n1  2.476712           -0.856472 -0.846733 -0.916319         -0.620147   \n2  0.491187            0.795140 -0.846733  2.174405         -1.038638   \n3  0.491187            0.795140 -0.846733  2.174405         -1.038638   \n4 -0.790075            0.678079 -0.846733  0.488555         -1.038638   \n\n   Coarse Aggregate  Fine Aggregate       Age  \n0          0.862735       -1.217079 -0.279597  \n1          1.055651       -1.217079 -0.279597  \n2         -0.526262       -2.239829  3.551340  \n3         -0.526262       -2.239829  5.055221  \n4          0.070492        0.647569  4.976069  "
                    },
                    "execution_count": 8,
                    "metadata": {},
                    "output_type": "execute_result"
                }
            ],
            "source": "predictors_norm = (predictors - predictors.mean()) / predictors.std()\npredictors_norm.head()"
        },
        {
            "cell_type": "code",
            "execution_count": 9,
            "metadata": {},
            "outputs": [
                {
                    "data": {
                        "text/plain": "8"
                    },
                    "execution_count": 9,
                    "metadata": {},
                    "output_type": "execute_result"
                }
            ],
            "source": "n_cols = predictors.shape[1] # number of predictors\nn_cols"
        },
        {
            "cell_type": "markdown",
            "metadata": {},
            "source": "## Import Keras\nLet's go ahead and import the Keras library"
        },
        {
            "cell_type": "code",
            "execution_count": 10,
            "metadata": {},
            "outputs": [
                {
                    "name": "stderr",
                    "output_type": "stream",
                    "text": "Using TensorFlow backend.\n"
                }
            ],
            "source": "import keras\nfrom keras.models import Sequential\nfrom keras.layers import Dense"
        },
        {
            "cell_type": "code",
            "execution_count": 11,
            "metadata": {},
            "outputs": [],
            "source": "# define regression model\ndef regression_model():\n    # create model\n    model = Sequential()\n    model.add(Dense(10, activation='relu', input_shape=(n_cols,)))\n    model.add(Dense(10, activation='relu'))\n    model.add(Dense(10, activation='relu'))\n    model.add(Dense(1))\n    \n    # compile model\n    model.compile(optimizer='adam', loss='mean_squared_error')\n    return model"
        },
        {
            "cell_type": "code",
            "execution_count": 12,
            "metadata": {},
            "outputs": [],
            "source": "from sklearn.model_selection import train_test_split\n\nX_train, X_test, y_train, y_test = train_test_split(predictors, target, test_size=0.3, random_state=42)"
        },
        {
            "cell_type": "code",
            "execution_count": 13,
            "metadata": {},
            "outputs": [
                {
                    "name": "stdout",
                    "output_type": "stream",
                    "text": "WARNING:tensorflow:From /opt/conda/envs/Python36/lib/python3.6/site-packages/tensorflow/python/framework/op_def_library.py:263: colocate_with (from tensorflow.python.framework.ops) is deprecated and will be removed in a future version.\nInstructions for updating:\nColocations handled automatically by placer.\n"
                }
            ],
            "source": "# build the model\nmodel = regression_model()"
        },
        {
            "cell_type": "code",
            "execution_count": 14,
            "metadata": {},
            "outputs": [
                {
                    "name": "stdout",
                    "output_type": "stream",
                    "text": "WARNING:tensorflow:From /opt/conda/envs/Python36/lib/python3.6/site-packages/tensorflow/python/ops/math_ops.py:3066: to_int32 (from tensorflow.python.ops.math_ops) is deprecated and will be removed in a future version.\nInstructions for updating:\nUse tf.cast instead.\nEpoch 1/100\n - 2s - loss: 27294.8583\nEpoch 2/100\n - 0s - loss: 3262.8670\nEpoch 3/100\n - 0s - loss: 1397.5938\nEpoch 4/100\n - 0s - loss: 1187.7874\nEpoch 5/100\n - 0s - loss: 1014.2942\nEpoch 6/100\n - 0s - loss: 900.6084\nEpoch 7/100\n - 0s - loss: 814.7051\nEpoch 8/100\n - 0s - loss: 739.3816\nEpoch 9/100\n - 0s - loss: 679.9557\nEpoch 10/100\n - 0s - loss: 634.2255\nEpoch 11/100\n - 0s - loss: 596.1300\nEpoch 12/100\n - 0s - loss: 555.3558\nEpoch 13/100\n - 0s - loss: 521.7214\nEpoch 14/100\n - 1s - loss: 493.7995\nEpoch 15/100\n - 1s - loss: 467.8867\nEpoch 16/100\n - 0s - loss: 445.1310\nEpoch 17/100\n - 0s - loss: 425.1782\nEpoch 18/100\n - 0s - loss: 400.2244\nEpoch 19/100\n - 0s - loss: 378.1213\nEpoch 20/100\n - 0s - loss: 359.3536\nEpoch 21/100\n - 0s - loss: 336.5144\nEpoch 22/100\n - 0s - loss: 320.9539\nEpoch 23/100\n - 0s - loss: 304.1438\nEpoch 24/100\n - 0s - loss: 287.4233\nEpoch 25/100\n - 0s - loss: 275.6001\nEpoch 26/100\n - 0s - loss: 256.0905\nEpoch 27/100\n - 0s - loss: 243.5290\nEpoch 28/100\n - 0s - loss: 232.4439\nEpoch 29/100\n - 0s - loss: 220.0439\nEpoch 30/100\n - 0s - loss: 210.6132\nEpoch 31/100\n - 0s - loss: 205.3487\nEpoch 32/100\n - 0s - loss: 197.5057\nEpoch 33/100\n - 0s - loss: 191.3849\nEpoch 34/100\n - 0s - loss: 186.9943\nEpoch 35/100\n - 0s - loss: 182.4872\nEpoch 36/100\n - 0s - loss: 179.8322\nEpoch 37/100\n - 0s - loss: 176.1367\nEpoch 38/100\n - 0s - loss: 173.3415\nEpoch 39/100\n - 0s - loss: 174.3444\nEpoch 40/100\n - 0s - loss: 173.8533\nEpoch 41/100\n - 0s - loss: 168.0857\nEpoch 42/100\n - 0s - loss: 165.9022\nEpoch 43/100\n - 0s - loss: 164.5333\nEpoch 44/100\n - 0s - loss: 164.7258\nEpoch 45/100\n - 1s - loss: 163.5722\nEpoch 46/100\n - 1s - loss: 162.7048\nEpoch 47/100\n - 0s - loss: 161.7321\nEpoch 48/100\n - 0s - loss: 159.6284\nEpoch 49/100\n - 0s - loss: 161.0777\nEpoch 50/100\n - 0s - loss: 160.5838\nEpoch 51/100\n - 0s - loss: 160.0589\nEpoch 52/100\n - 0s - loss: 159.5923\nEpoch 53/100\n - 0s - loss: 160.7890\nEpoch 54/100\n - 0s - loss: 156.4519\nEpoch 55/100\n - 0s - loss: 157.4178\nEpoch 56/100\n - 0s - loss: 155.3668\nEpoch 57/100\n - 0s - loss: 152.9922\nEpoch 58/100\n - 0s - loss: 155.2577\nEpoch 59/100\n - 0s - loss: 151.9816\nEpoch 60/100\n - 0s - loss: 152.3948\nEpoch 61/100\n - 0s - loss: 153.7930\nEpoch 62/100\n - 0s - loss: 151.1882\nEpoch 63/100\n - 0s - loss: 149.9546\nEpoch 64/100\n - 0s - loss: 148.4674\nEpoch 65/100\n - 0s - loss: 149.5483\nEpoch 66/100\n - 0s - loss: 152.9776\nEpoch 67/100\n - 0s - loss: 147.9706\nEpoch 68/100\n - 0s - loss: 149.6448\nEpoch 69/100\n - 0s - loss: 147.7230\nEpoch 70/100\n - 0s - loss: 146.1229\nEpoch 71/100\n - 0s - loss: 147.5715\nEpoch 72/100\n - 0s - loss: 144.9904\nEpoch 73/100\n - 0s - loss: 144.1801\nEpoch 74/100\n - 1s - loss: 145.0539\nEpoch 75/100\n - 1s - loss: 142.9957\nEpoch 76/100\n - 0s - loss: 144.4579\nEpoch 77/100\n - 0s - loss: 145.0621\nEpoch 78/100\n - 0s - loss: 140.6464\nEpoch 79/100\n - 0s - loss: 140.7933\nEpoch 80/100\n - 0s - loss: 142.2447\nEpoch 81/100\n - 0s - loss: 139.0175\nEpoch 82/100\n - 0s - loss: 141.7477\nEpoch 83/100\n - 0s - loss: 137.7588\nEpoch 84/100\n - 0s - loss: 143.6866\nEpoch 85/100\n - 0s - loss: 137.5336\nEpoch 86/100\n - 0s - loss: 137.0437\nEpoch 87/100\n - 0s - loss: 137.8518\nEpoch 88/100\n - 0s - loss: 137.0855\nEpoch 89/100\n - 0s - loss: 134.9827\nEpoch 90/100\n - 0s - loss: 135.1356\nEpoch 91/100\n - 0s - loss: 134.7612\nEpoch 92/100\n - 0s - loss: 134.6625\nEpoch 93/100\n - 0s - loss: 135.1788\nEpoch 94/100\n - 0s - loss: 136.2002\nEpoch 95/100\n - 0s - loss: 134.7504\nEpoch 96/100\n - 0s - loss: 131.8186\nEpoch 97/100\n - 0s - loss: 130.1833\nEpoch 98/100\n - 0s - loss: 128.5420\nEpoch 99/100\n - 0s - loss: 127.7011\nEpoch 100/100\n - 0s - loss: 128.4181\n"
                },
                {
                    "data": {
                        "text/plain": "<keras.callbacks.History at 0x7f0b05d07a90>"
                    },
                    "execution_count": 14,
                    "metadata": {},
                    "output_type": "execute_result"
                }
            ],
            "source": "# fit the model\nepochs = 100\nmodel.fit(X_train, y_train, epochs=epochs, verbose=2)"
        },
        {
            "cell_type": "code",
            "execution_count": 15,
            "metadata": {},
            "outputs": [
                {
                    "name": "stdout",
                    "output_type": "stream",
                    "text": "309/309 [==============================] - 0s 418us/step\n"
                },
                {
                    "data": {
                        "text/plain": "138.89743041992188"
                    },
                    "execution_count": 15,
                    "metadata": {},
                    "output_type": "execute_result"
                }
            ],
            "source": "loss_val = model.evaluate(X_test, y_test)\ny_pred = model.predict(X_test)\nloss_val"
        },
        {
            "cell_type": "markdown",
            "metadata": {},
            "source": "### Now we need to compute the mean squared error between the predicted concrete strength and the actual concrete strength.\n\nLet's import the mean_squared_error function from Scikit-learn."
        },
        {
            "cell_type": "code",
            "execution_count": 16,
            "metadata": {},
            "outputs": [
                {
                    "name": "stdout",
                    "output_type": "stream",
                    "text": "138.8974337016874 0.0\n"
                }
            ],
            "source": "from sklearn.metrics import mean_squared_error\n\nmean_square_error = mean_squared_error(y_test, y_pred)\nmean = np.mean(mean_square_error)\nstandard_deviation = np.std(mean_square_error)\nprint(mean, standard_deviation)"
        },
        {
            "cell_type": "code",
            "execution_count": 17,
            "metadata": {},
            "outputs": [
                {
                    "name": "stdout",
                    "output_type": "stream",
                    "text": "MSE 1: 78.39422551868032\nMSE 2: 73.38250033677974\nMSE 3: 57.475272120009734\nMSE 4: 50.877660880968406\nMSE 5: 42.27740688385701\nMSE 6: 43.63718876020808\nMSE 7: 44.56720874378982\nMSE 8: 36.74015451326339\nMSE 9: 38.059678235100314\nMSE 10: 42.200407639290525\nMSE 11: 39.97560907258956\nMSE 12: 31.896305979262664\nMSE 13: 42.38905429531455\nMSE 14: 43.42544898863363\nMSE 15: 39.73183509061251\nMSE 16: 33.490722100711565\nMSE 17: 36.519395710966734\nMSE 18: 45.72233842028769\nMSE 19: 36.07414463499989\nMSE 20: 41.77159871098293\nMSE 21: 37.91394228148229\nMSE 22: 36.533173014816725\nMSE 23: 35.885385507133016\nMSE 24: 34.753520126095864\nMSE 25: 37.623229968123454\nMSE 26: 40.737312711944085\nMSE 27: 41.90326727709724\nMSE 28: 33.063495129829086\nMSE 29: 43.11607088008745\nMSE 30: 34.80572585071946\nMSE 31: 35.76565848044979\nMSE 32: 31.13146616803018\nMSE 33: 34.34315431465223\nMSE 34: 33.874716823540844\nMSE 35: 35.91187844384449\nMSE 36: 39.060733338389966\nMSE 37: 34.92623115588932\nMSE 38: 34.51247722045503\nMSE 39: 32.54093757802229\nMSE 40: 28.27912264580094\nMSE 41: 39.0518777038673\nMSE 42: 34.33037910337973\nMSE 43: 33.980931507345154\nMSE 44: 35.79642574223886\nMSE 45: 35.691804595749744\nMSE 46: 39.977445917222106\nMSE 47: 31.61625018320423\nMSE 48: 31.488857837170844\nMSE 49: 33.63937014977909\nMSE 50: 32.33224793468093\nMSE 51: 31.457012485146137\nMSE 52: 29.66757599667052\nMSE 53: 30.14599118032116\nMSE 54: 31.266925898184667\nMSE 55: 35.13676228569549\nMSE 56: 31.781741457078063\nMSE 57: 29.896668319949054\nMSE 58: 35.703159023642925\nMSE 59: 32.803068938764554\nMSE 60: 33.61142788735794\nMSE 61: 29.15772818901778\nMSE 62: 27.34862125421419\nMSE 63: 29.531729923482853\nMSE 64: 27.298668450907982\nMSE 65: 29.25580527790156\nMSE 66: 30.194510077195645\nMSE 67: 29.78648855462429\nMSE 68: 32.856243824881645\nMSE 69: 28.046716245632727\nMSE 70: 38.766721274860465\nMSE 71: 39.560075222867205\nMSE 72: 27.041550744312868\nMSE 73: 28.685278117849602\nMSE 74: 27.921244902132397\nMSE 75: 30.64518165588379\nMSE 76: 29.477752401605006\nMSE 77: 30.679325443255475\nMSE 78: 26.596189801361184\nMSE 79: 32.72304283068018\nMSE 80: 29.157626636591544\nMSE 81: 27.637509361439925\nMSE 82: 30.920559883117676\nMSE 83: 28.95104429251168\nMSE 84: 28.806360183024484\nMSE 85: 28.227215325562312\nMSE 86: 25.642907917306648\nMSE 87: 35.13598653799507\nMSE 88: 25.14706759159619\nMSE 89: 33.72294551269136\nMSE 90: 28.929491641837803\nMSE 91: 30.989215696513845\nMSE 92: 24.59680293987484\nMSE 93: 29.2923311770541\nMSE 94: 26.268710670347737\nMSE 95: 29.93778558996503\nMSE 96: 28.8927744214203\nMSE 97: 29.93499792278006\nMSE 98: 28.25229089236954\nMSE 99: 31.09118636294862\nMSE 100: 28.690835033034045\n\n\nBelow is the mean and standard deviation of 100 mean squared errors without normalized data. Total number of epochs for each training is: 100\n\nMean: 34.7046409101114\nStandard Deviation: 8.19278326321411\n"
                }
            ],
            "source": "total_mean_squared_errors = 100\nepochs = 100\nmean_squared_errors = []\nfor i in range(0, total_mean_squared_errors):\n    X_train, X_test, y_train, y_test = train_test_split(predictors, target, test_size=0.3, random_state=i)\n    model.fit(X_train, y_train, epochs=epochs, verbose=0)\n    MSE = model.evaluate(X_test, y_test, verbose=0)\n    print(\"MSE \"+str(i+1)+\": \"+str(MSE))\n    y_pred = model.predict(X_test)\n    mean_square_error = mean_squared_error(y_test, y_pred)\n    mean_squared_errors.append(mean_square_error)\n\nmean_squared_errors = np.array(mean_squared_errors)\nmean = np.mean(mean_squared_errors)\nstandard_deviation = np.std(mean_squared_errors)\n\nprint('\\n')\nprint(\"Below is the mean and standard deviation of \" +str(total_mean_squared_errors) + \" mean squared errors without normalized data. Total number of epochs for each training is: \" +str(epochs) + \"\\n\")\nprint(\"Mean: \"+str(mean))\nprint(\"Standard Deviation: \"+str(standard_deviation))"
        },
        {
            "cell_type": "markdown",
            "metadata": {},
            "source": "##### The mean of the mean squared errors is lower when compared to that from Step C"
        }
    ],
    "metadata": {
        "kernelspec": {
            "display_name": "Python 3.6",
            "language": "python",
            "name": "python3"
        },
        "language_info": {
            "codemirror_mode": {
                "name": "ipython",
                "version": 3
            },
            "file_extension": ".py",
            "mimetype": "text/x-python",
            "name": "python",
            "nbconvert_exporter": "python",
            "pygments_lexer": "ipython3",
            "version": "3.6.9"
        }
    },
    "nbformat": 4,
    "nbformat_minor": 1
}