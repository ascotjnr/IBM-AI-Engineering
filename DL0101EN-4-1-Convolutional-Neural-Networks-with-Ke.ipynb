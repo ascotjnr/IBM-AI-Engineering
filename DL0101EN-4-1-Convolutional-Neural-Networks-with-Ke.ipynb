{
    "cells": [
        {
            "cell_type": "markdown",
            "metadata": {},
            "source": "<a href=\"https://cognitiveclass.ai\"><img src = \"https://s3-api.us-geo.objectstorage.softlayer.net/cf-courses-data/CognitiveClass/Logos/organization_logo/organization_logo.png\" width = 400> </a>\n\n<h1 align=center><font size = 5>Convolutional Neural Networks with Keras</font></h1>"
        },
        {
            "cell_type": "markdown",
            "metadata": {},
            "source": "In this lab, we will learn how to use the Keras library to build convolutional neural networks. We will also use the popular MNIST dataset and we will compare our results to using a conventional neural network.\n"
        },
        {
            "cell_type": "markdown",
            "metadata": {},
            "source": "## Table of Contents\n\n<div class=\"alert alert-block alert-info\" style=\"margin-top: 20px\">\n\n<font size = 3>\n      \n1. <a href=\"#item41\">Import Keras and Packages</a>   \n2. <a href=\"#item42\">Convolutional Neural Network with One Convolutional and Pooling Layers</a>  \n3. <a href=\"#item43\">Convolutional Neural Network with Two Convolutional and Pooling Layers</a>  \n\n</font>\n</div>"
        },
        {
            "cell_type": "markdown",
            "metadata": {},
            "source": "<a id='item41'></a>"
        },
        {
            "cell_type": "markdown",
            "metadata": {},
            "source": "## Import Keras and Packages"
        },
        {
            "cell_type": "markdown",
            "metadata": {},
            "source": "Let's start by importing the keras libraries and the packages that we would need to build a neural network."
        },
        {
            "cell_type": "code",
            "execution_count": 1,
            "metadata": {},
            "outputs": [
                {
                    "name": "stderr",
                    "output_type": "stream",
                    "text": "Using TensorFlow backend.\n"
                }
            ],
            "source": "import keras\nfrom keras.models import Sequential\nfrom keras.layers import Dense\nfrom keras.utils import to_categorical"
        },
        {
            "cell_type": "markdown",
            "metadata": {},
            "source": "When working with convolutional neural networks in particular, we will need additional packages."
        },
        {
            "cell_type": "code",
            "execution_count": 2,
            "metadata": {},
            "outputs": [],
            "source": "from keras.layers.convolutional import Conv2D # to add convolutional layers\nfrom keras.layers.convolutional import MaxPooling2D # to add pooling layers\nfrom keras.layers import Flatten # to flatten data for fully connected layers"
        },
        {
            "cell_type": "markdown",
            "metadata": {},
            "source": "<a id='item42'></a>"
        },
        {
            "cell_type": "markdown",
            "metadata": {},
            "source": "## Convolutional Layer with One set of convolutional and pooling layers"
        },
        {
            "cell_type": "code",
            "execution_count": 3,
            "metadata": {},
            "outputs": [],
            "source": "# import data\nfrom keras.datasets import mnist\n\n# load data\n(X_train, y_train), (X_test, y_test) = mnist.load_data()\n\n# reshape to be [samples][pixels][width][height]\nX_train = X_train.reshape(X_train.shape[0], 28, 28, 1).astype('float32')\nX_test = X_test.reshape(X_test.shape[0], 28, 28, 1).astype('float32')"
        },
        {
            "cell_type": "markdown",
            "metadata": {},
            "source": "Let's normalize the pixel values to be between 0 and 1"
        },
        {
            "cell_type": "code",
            "execution_count": 4,
            "metadata": {},
            "outputs": [],
            "source": "X_train = X_train / 255 # normalize training data\nX_test = X_test / 255 # normalize test data"
        },
        {
            "cell_type": "markdown",
            "metadata": {},
            "source": "Next, let's convert the target variable into binary categories"
        },
        {
            "cell_type": "code",
            "execution_count": 5,
            "metadata": {},
            "outputs": [],
            "source": "y_train = to_categorical(y_train)\ny_test = to_categorical(y_test)\n\nnum_classes = y_test.shape[1] # number of categories"
        },
        {
            "cell_type": "markdown",
            "metadata": {},
            "source": "Next, let's define a function that creates our model. Let's start with one set of convolutional and pooling layers."
        },
        {
            "cell_type": "code",
            "execution_count": 6,
            "metadata": {},
            "outputs": [],
            "source": "def convolutional_model():\n    \n    # create model\n    model = Sequential()\n    model.add(Conv2D(16, (5, 5), strides=(1, 1), activation='relu', input_shape=(28, 28, 1)))\n    model.add(MaxPooling2D(pool_size=(2, 2), strides=(2, 2)))\n    \n    model.add(Flatten())\n    model.add(Dense(100, activation='relu'))\n    model.add(Dense(num_classes, activation='softmax'))\n    \n    # compile model\n    model.compile(optimizer='adam', loss='categorical_crossentropy',  metrics=['accuracy'])\n    return model"
        },
        {
            "cell_type": "markdown",
            "metadata": {},
            "source": "Finally, let's call the function to create the model, and then let's train it and evaluate it."
        },
        {
            "cell_type": "code",
            "execution_count": 7,
            "metadata": {},
            "outputs": [
                {
                    "name": "stdout",
                    "output_type": "stream",
                    "text": "WARNING:tensorflow:From /opt/conda/envs/Python36/lib/python3.6/site-packages/tensorflow/python/framework/op_def_library.py:263: colocate_with (from tensorflow.python.framework.ops) is deprecated and will be removed in a future version.\nInstructions for updating:\nColocations handled automatically by placer.\nWARNING:tensorflow:From /opt/conda/envs/Python36/lib/python3.6/site-packages/tensorflow/python/ops/math_ops.py:3066: to_int32 (from tensorflow.python.ops.math_ops) is deprecated and will be removed in a future version.\nInstructions for updating:\nUse tf.cast instead.\nTrain on 60000 samples, validate on 10000 samples\nEpoch 1/10\n - 30s - loss: 0.2836 - acc: 0.9237 - val_loss: 0.0925 - val_acc: 0.9738\nEpoch 2/10\n - 29s - loss: 0.0756 - acc: 0.9774 - val_loss: 0.0619 - val_acc: 0.9800\nEpoch 3/10\n - 27s - loss: 0.0527 - acc: 0.9841 - val_loss: 0.0448 - val_acc: 0.9849\nEpoch 4/10\n - 29s - loss: 0.0406 - acc: 0.9883 - val_loss: 0.0433 - val_acc: 0.9850\nEpoch 5/10\n - 28s - loss: 0.0338 - acc: 0.9896 - val_loss: 0.0388 - val_acc: 0.9876\nEpoch 6/10\n - 27s - loss: 0.0282 - acc: 0.9913 - val_loss: 0.0350 - val_acc: 0.9881\nEpoch 7/10\n - 28s - loss: 0.0234 - acc: 0.9926 - val_loss: 0.0337 - val_acc: 0.9898\nEpoch 8/10\n - 26s - loss: 0.0196 - acc: 0.9940 - val_loss: 0.0390 - val_acc: 0.9872\nEpoch 9/10\n - 29s - loss: 0.0157 - acc: 0.9951 - val_loss: 0.0402 - val_acc: 0.9870\nEpoch 10/10\n - 28s - loss: 0.0130 - acc: 0.9964 - val_loss: 0.0366 - val_acc: 0.9889\nAccuracy: 0.9889 \n Error: 1.1099999999999994\n"
                }
            ],
            "source": "# build the model\nmodel = convolutional_model()\n\n# fit the model\nmodel.fit(X_train, y_train, validation_data=(X_test, y_test), epochs=10, batch_size=200, verbose=2)\n\n# evaluate the model\nscores = model.evaluate(X_test, y_test, verbose=0)\nprint(\"Accuracy: {} \\n Error: {}\".format(scores[1], 100-scores[1]*100))"
        },
        {
            "cell_type": "markdown",
            "metadata": {},
            "source": "------------------------------------------"
        },
        {
            "cell_type": "markdown",
            "metadata": {},
            "source": "<a id='item43'></a>"
        },
        {
            "cell_type": "markdown",
            "metadata": {},
            "source": "## Convolutional Layer with two sets of convolutional and pooling layers"
        },
        {
            "cell_type": "markdown",
            "metadata": {},
            "source": "Let's redefine our convolutional model so that it has two convolutional and pooling layers instead of just one layer of each."
        },
        {
            "cell_type": "code",
            "execution_count": 8,
            "metadata": {},
            "outputs": [],
            "source": "def convolutional_model():\n    \n    # create model\n    model = Sequential()\n    model.add(Conv2D(16, (5, 5), activation='relu', input_shape=(28, 28, 1)))\n    model.add(MaxPooling2D(pool_size=(2, 2), strides=(2, 2)))\n    \n    model.add(Conv2D(8, (2, 2), activation='relu'))\n    model.add(MaxPooling2D(pool_size=(2, 2), strides=(2, 2)))\n    \n    model.add(Flatten())\n    model.add(Dense(100, activation='relu'))\n    model.add(Dense(num_classes, activation='softmax'))\n    \n    # Compile model\n    model.compile(optimizer='adam', loss='categorical_crossentropy',  metrics=['accuracy'])\n    return model"
        },
        {
            "cell_type": "markdown",
            "metadata": {},
            "source": "Now, let's call the function to create our new convolutional neural network, and then let's train it and evaluate it."
        },
        {
            "cell_type": "code",
            "execution_count": 9,
            "metadata": {},
            "outputs": [
                {
                    "name": "stdout",
                    "output_type": "stream",
                    "text": "Train on 60000 samples, validate on 10000 samples\nEpoch 1/10\n - 44s - loss: 0.4828 - acc: 0.8639 - val_loss: 0.1402 - val_acc: 0.9588\nEpoch 2/10\n - 43s - loss: 0.1207 - acc: 0.9637 - val_loss: 0.0849 - val_acc: 0.9744\nEpoch 3/10\n - 41s - loss: 0.0868 - acc: 0.9735 - val_loss: 0.0632 - val_acc: 0.9810\nEpoch 4/10\n - 40s - loss: 0.0706 - acc: 0.9788 - val_loss: 0.0524 - val_acc: 0.9847\nEpoch 5/10\n - 39s - loss: 0.0592 - acc: 0.9821 - val_loss: 0.0447 - val_acc: 0.9857\nEpoch 6/10\n - 39s - loss: 0.0512 - acc: 0.9848 - val_loss: 0.0418 - val_acc: 0.9866\nEpoch 7/10\n - 41s - loss: 0.0449 - acc: 0.9865 - val_loss: 0.0378 - val_acc: 0.9878\nEpoch 8/10\n - 40s - loss: 0.0413 - acc: 0.9876 - val_loss: 0.0370 - val_acc: 0.9878\nEpoch 9/10\n - 43s - loss: 0.0355 - acc: 0.9895 - val_loss: 0.0359 - val_acc: 0.9882\nEpoch 10/10\n - 40s - loss: 0.0327 - acc: 0.9898 - val_loss: 0.0350 - val_acc: 0.9876\nAccuracy: 0.9876 \n Error: 1.2399999999999949\n"
                }
            ],
            "source": "# build the model\nmodel = convolutional_model()\n\n# fit the model\nmodel.fit(X_train, y_train, validation_data=(X_test, y_test), epochs=10, batch_size=200, verbose=2)\n\n# evaluate the model\nscores = model.evaluate(X_test, y_test, verbose=0)\nprint(\"Accuracy: {} \\n Error: {}\".format(scores[1], 100-scores[1]*100))"
        },
        {
            "cell_type": "markdown",
            "metadata": {},
            "source": "### Thank you for completing this lab!\n\nThis notebook was created by [Alex Aklson](https://www.linkedin.com/in/aklson/). I hope you found this lab interesting and educational. Feel free to contact me if you have any questions!"
        },
        {
            "cell_type": "markdown",
            "metadata": {},
            "source": "This notebook is part of a course on **Coursera** called *Introduction to Deep Learning & Neural Networks with Keras*. If you accessed this notebook outside the course, you can take this course online by clicking [here](https://cocl.us/DL0101EN_Coursera_Week4_LAB1)."
        },
        {
            "cell_type": "markdown",
            "metadata": {},
            "source": "<hr>\n\nCopyright &copy; 2019 [IBM Developer Skills Network](https://cognitiveclass.ai/?utm_source=bducopyrightlink&utm_medium=dswb&utm_campaign=bdu). This notebook and its source code are released under the terms of the [MIT License](https://bigdatauniversity.com/mit-license/)."
        }
    ],
    "metadata": {
        "kernelspec": {
            "display_name": "Python 3.6",
            "language": "python",
            "name": "python3"
        },
        "language_info": {
            "codemirror_mode": {
                "name": "ipython",
                "version": 3
            },
            "file_extension": ".py",
            "mimetype": "text/x-python",
            "name": "python",
            "nbconvert_exporter": "python",
            "pygments_lexer": "ipython3",
            "version": "3.6.9"
        }
    },
    "nbformat": 4,
    "nbformat_minor": 4
}